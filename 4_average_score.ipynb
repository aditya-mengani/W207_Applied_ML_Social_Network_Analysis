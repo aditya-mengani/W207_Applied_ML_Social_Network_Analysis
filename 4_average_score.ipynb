{
 "cells": [
  {
   "cell_type": "code",
   "execution_count": 55,
   "metadata": {},
   "outputs": [],
   "source": [
    "import json"
   ]
  },
  {
   "cell_type": "code",
   "execution_count": 56,
   "metadata": {},
   "outputs": [],
   "source": [
    "g = open('files/output/results_baseline_test')\n",
    "data = json.load(g)"
   ]
  },
  {
   "cell_type": "code",
   "execution_count": 57,
   "metadata": {},
   "outputs": [],
   "source": [
    "test_accuracies = {'LRR':0,'KNN':0,'BNB':0,'GNB':0,'DCT':0,'XGB':0,'RMF':0,'SVM':0}\n",
    "\n",
    "for i in list(test_accuracies.keys()):\n",
    "    for j in data:\n",
    "        test_accuracies[i] = test_accuracies[i] + (j['result'][0][i]['OneHotEncoder with StandardScaler()']['score'])\n",
    "        \n",
    "for i in test_accuracies:\n",
    "    test_accuracies[i] = test_accuracies[i]/len(data)"
   ]
  },
  {
   "cell_type": "code",
   "execution_count": 58,
   "metadata": {},
   "outputs": [
    {
     "data": {
      "text/plain": [
       "{'LRR': 0.7210205935580725,\n",
       " 'KNN': 0.691536450178631,\n",
       " 'BNB': 0.64451234147967,\n",
       " 'GNB': 0.6720858527263025,\n",
       " 'DCT': 0.7375775816714852,\n",
       " 'XGB': 0.7669136095836704,\n",
       " 'RMF': 0.7908491344058288,\n",
       " 'SVM': 0.7457857533301883}"
      ]
     },
     "execution_count": 58,
     "metadata": {},
     "output_type": "execute_result"
    }
   ],
   "source": [
    "test_accuracies"
   ]
  }
 ],
 "metadata": {
  "kernelspec": {
   "display_name": "Python 3",
   "language": "python",
   "name": "python3"
  },
  "language_info": {
   "codemirror_mode": {
    "name": "ipython",
    "version": 3
   },
   "file_extension": ".py",
   "mimetype": "text/x-python",
   "name": "python",
   "nbconvert_exporter": "python",
   "pygments_lexer": "ipython3",
   "version": "3.8.3"
  }
 },
 "nbformat": 4,
 "nbformat_minor": 4
}
